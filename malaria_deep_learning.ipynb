{
  "nbformat": 4,
  "nbformat_minor": 0,
  "metadata": {
    "colab": {
      "provenance": [],
      "include_colab_link": true
    },
    "kernelspec": {
      "name": "python3",
      "display_name": "Python 3"
    },
    "language_info": {
      "name": "python"
    }
  },
  "cells": [
    {
      "cell_type": "markdown",
      "metadata": {
        "id": "view-in-github",
        "colab_type": "text"
      },
      "source": [
        "<a href=\"https://colab.research.google.com/github/Hajaarh/malaria_hematie_deeplearning/blob/main/malaria_deep_learning.ipynb\" target=\"_parent\"><img src=\"https://colab.research.google.com/assets/colab-badge.svg\" alt=\"Open In Colab\"/></a>"
      ]
    },
    {
      "cell_type": "markdown",
      "source": [
        "Importation affichage du contenu du zip"
      ],
      "metadata": {
        "id": "Lelpb-cDfEXj"
      }
    },
    {
      "cell_type": "code",
      "execution_count": null,
      "metadata": {
        "id": "Uol1l6YQzL0l",
        "colab": {
          "base_uri": "https://localhost:8080/"
        },
        "outputId": "a8eea770-6a3b-4dfd-da01-de58c29e30f2"
      },
      "outputs": [
        {
          "output_type": "stream",
          "name": "stdout",
          "text": [
            "Données extraites dans : /content/malaria_hematie_dataset\n"
          ]
        }
      ],
      "source": [
        "import zipfile\n",
        "import os\n",
        "import numpy as np\n",
        "from PIL import Image\n",
        "from sklearn.model_selection import train_test_split\n",
        "from tensorflow.keras.utils import to_categorical\n",
        "from tensorflow.keras import layers, models\n",
        "from tensorflow.keras.layers import Rescaling\n",
        "from tensorflow.keras.models import Sequential\n",
        "\n",
        "# Extraire les données\n",
        "zip_chemin = \"/content/drive/MyDrive/Colab Notebooks/malaria_hematie_dataset.zip\"\n",
        "extraction = \"/content/malaria_hematie_dataset\"\n",
        "\n",
        "# Extraire le fichier ZIP\n",
        "with zipfile.ZipFile(zip_chemin, 'r') as zip_ref:\n",
        "    zip_ref.extractall(extraction)\n",
        "\n",
        "print(\"Données extraites dans :\", extraction)"
      ]
    },
    {
      "cell_type": "markdown",
      "source": [
        "Charger les données\n"
      ],
      "metadata": {
        "id": "Ilrd_qh2e8xF"
      }
    },
    {
      "cell_type": "code",
      "source": [
        "# Paramètres\n",
        "image_size = (128, 128)  # Taille cible des images\n",
        "classes = ['parasitized', 'uninfected']  # Les classes\n",
        "data = []  # Pour stocker les images\n",
        "labels = []  # Pour stocker les labels\n",
        "\n",
        "# Parcourir les sous-dossiers et charger les images\n",
        "for class_name in classes:\n",
        "    class_dir = os.path.join(extraction, class_name)\n",
        "    for zip_ref in os.listdir(class_dir):\n",
        "        file_path = os.path.join(class_dir, zip_ref)\n",
        "        try:\n",
        "            # Charger et redimensionner l'image\n",
        "            img = Image.open(file_path).convert('RGB')  # Assure un format RGB\n",
        "            img = img.resize(image_size)  # Redimensionne à 128x128\n",
        "            data.append(np.array(img))  # Convertir l'image en tableau numpy\n",
        "            labels.append(classes.index(class_name))  # Index de la classe\n",
        "        except Exception as e:\n",
        "            print(f\"Erreur avec le fichier {file_path} : {e}\")\n"
      ],
      "metadata": {
        "colab": {
          "base_uri": "https://localhost:8080/",
          "height": 211
        },
        "id": "iolVBkKSe71D",
        "outputId": "166da1b5-38cc-4d2c-cbd7-33c671478a89"
      },
      "execution_count": null,
      "outputs": [
        {
          "output_type": "error",
          "ename": "FileNotFoundError",
          "evalue": "[Errno 2] No such file or directory: '/content/malaria_hematie_dataset/parasitized'",
          "traceback": [
            "\u001b[0;31m---------------------------------------------------------------------------\u001b[0m",
            "\u001b[0;31mFileNotFoundError\u001b[0m                         Traceback (most recent call last)",
            "\u001b[0;32m<ipython-input-19-1fcccecf4add>\u001b[0m in \u001b[0;36m<cell line: 0>\u001b[0;34m()\u001b[0m\n\u001b[1;32m      8\u001b[0m \u001b[0;32mfor\u001b[0m \u001b[0mclass_name\u001b[0m \u001b[0;32min\u001b[0m \u001b[0mclasses\u001b[0m\u001b[0;34m:\u001b[0m\u001b[0;34m\u001b[0m\u001b[0;34m\u001b[0m\u001b[0m\n\u001b[1;32m      9\u001b[0m     \u001b[0mclass_dir\u001b[0m \u001b[0;34m=\u001b[0m \u001b[0mos\u001b[0m\u001b[0;34m.\u001b[0m\u001b[0mpath\u001b[0m\u001b[0;34m.\u001b[0m\u001b[0mjoin\u001b[0m\u001b[0;34m(\u001b[0m\u001b[0mextraction\u001b[0m\u001b[0;34m,\u001b[0m \u001b[0mclass_name\u001b[0m\u001b[0;34m)\u001b[0m\u001b[0;34m\u001b[0m\u001b[0;34m\u001b[0m\u001b[0m\n\u001b[0;32m---> 10\u001b[0;31m     \u001b[0;32mfor\u001b[0m \u001b[0mzip_ref\u001b[0m \u001b[0;32min\u001b[0m \u001b[0mos\u001b[0m\u001b[0;34m.\u001b[0m\u001b[0mlistdir\u001b[0m\u001b[0;34m(\u001b[0m\u001b[0mclass_dir\u001b[0m\u001b[0;34m)\u001b[0m\u001b[0;34m:\u001b[0m\u001b[0;34m\u001b[0m\u001b[0;34m\u001b[0m\u001b[0m\n\u001b[0m\u001b[1;32m     11\u001b[0m         \u001b[0mfile_path\u001b[0m \u001b[0;34m=\u001b[0m \u001b[0mos\u001b[0m\u001b[0;34m.\u001b[0m\u001b[0mpath\u001b[0m\u001b[0;34m.\u001b[0m\u001b[0mjoin\u001b[0m\u001b[0;34m(\u001b[0m\u001b[0mclass_dir\u001b[0m\u001b[0;34m,\u001b[0m \u001b[0mzip_ref\u001b[0m\u001b[0;34m)\u001b[0m\u001b[0;34m\u001b[0m\u001b[0;34m\u001b[0m\u001b[0m\n\u001b[1;32m     12\u001b[0m         \u001b[0;32mtry\u001b[0m\u001b[0;34m:\u001b[0m\u001b[0;34m\u001b[0m\u001b[0;34m\u001b[0m\u001b[0m\n",
            "\u001b[0;31mFileNotFoundError\u001b[0m: [Errno 2] No such file or directory: '/content/malaria_hematie_dataset/parasitized'"
          ]
        }
      ]
    }
  ]
}